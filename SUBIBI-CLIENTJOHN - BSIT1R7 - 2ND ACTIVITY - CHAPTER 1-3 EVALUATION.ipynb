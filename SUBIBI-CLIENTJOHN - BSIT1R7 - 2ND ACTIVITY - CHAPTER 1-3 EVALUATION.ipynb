{
 "cells": [
  {
   "cell_type": "code",
   "execution_count": 16,
   "id": "convenient-relations",
   "metadata": {},
   "outputs": [
    {
     "name": "stdout",
     "output_type": "stream",
     "text": [
      "Discuss your learnings on Chapter 1  time-frame 8:00 - 30:35. Minimum of 200 characters\n",
      "\n",
      "\tFrom what ve learned in chapter 1 is you need to be careful of your code to be able to run it,\n",
      "and you need the structure operation should be as little as possible because if it's too long it is so\n",
      "ugly to watch you need to be neat with your project. It is very important to learn Data Structure and Algorithm\n",
      "because Data Structures are use to hold data while algorithms are used to solve the problem using the data. And also\n",
      "while learning Data Structure it also teaches you the science of evaluation the effiency of an algorithm. By doing\n",
      "the algorithm it should be clear and unambiguous. that each of its step should be clear and must lead into one meaning only.\n",
      "And it should be dependent that the algorithm should have step by step directions, which should be independent of any programming code.\n",
      "The input of should have 0 or more well-defined inputs and the ouput it should have 1 or more well-defined outputs.\n",
      "When it comes to writing an algorithm it should be step by step manner, but its not always the case. Because algorithm writing\n",
      "is a process and is executed after the problem domain is well-defined.\n"
     ]
    }
   ],
   "source": [
    "print (\"Discuss your learnings on Chapter one  time-frame 8:00 - 30:35. Minimum of 200 characters\")\n",
    "\n",
    "print (\"\"\"\\n\\tFrom what ve learned in chapter 1 is you need to be careful of your code to be able to run it,\n",
    "and you need the structure operation should be as little as possible because if it's too long it is so\n",
    "ugly to watch you need to be neat with your project. It is very important to learn Data Structure and Algorithm\n",
    "because Data Structures are use to hold data while algorithms are used to solve the problem using the data. And also\n",
    "while learning Data Structure it also teaches you the science of evaluation the effiency of an algorithm. By doing\n",
    "the algorithm it should be clear and unambiguous. that each of its step should be clear and must lead into one meaning only.\n",
    "And it should be dependent that the algorithm should have step by step directions, which should be independent of any programming code.\n",
    "The input of should have 0 or more well-defined inputs and the ouput it should have 1 or more well-defined outputs.\n",
    "When it comes to writing an algorithm it should be step by step manner, but its not always the case. Because algorithm writing\n",
    "is a process and is executed after the problem domain is well-defined.\"\"\")"
   ]
  },
  {
   "cell_type": "code",
   "execution_count": 25,
   "id": "accessory-damage",
   "metadata": {},
   "outputs": [
    {
     "name": "stdout",
     "output_type": "stream",
     "text": [
      "Discuss your learnings on Chapter 1  time-frame 35:00 - end. Minimum of 200 characters\n",
      "\n",
      "\tIn chapter two is when conducting a Data should be Define a single concept and it should be able to mapped to some data \n",
      "element\n",
      "       and it should be understandable or clear and concise and unambiguous. With data type it classify various type suchs as\n",
      "       integer, string, etc. and there are two data types first is Built-in Data Type second is Derived Data type.\n",
      "       Built-in Data Types is those data types which a language has built-in support are known as Built-in Data Type\n",
      "       and Derived Data Type is those Data Type which are implementation independent as they can be implemented in one or the \n",
      "       other way are known Derived Data Types. There are also Basic Operations those are Traversing, Searching, Insertion, \n",
      "       Deletion, Sorting, and Merging.\n"
     ]
    }
   ],
   "source": [
    "print (\"Discuss your learnings on Chapter 1  time-frame 35:00 - end. Minimum of 200 characters\")\n",
    "\n",
    "print (\"\"\"\\n\\tIn chapter two is when conducting a Data should be Define a single concept and it should be able to mapped to some data element\n",
    "       and it should be understandable or clear and concise and unambiguous. With data type it classify various type suchs as\n",
    "       integer, string, etc. and there are two data types first is Built-in Data Type second is Derived Data type.\n",
    "       Built-in Data Types is those data types which a language has built-in support are known as Built-in Data Type\n",
    "       and Derived Data Type is those Data Type which are implementation independent as they can be implemented in one or the \n",
    "       other way are known Derived Data Types. There are also Basic Operations those are Traversing, Searching, Insertion, \n",
    "       Deletion, Sorting, and Merging.\"\"\")"
   ]
  },
  {
   "cell_type": "code",
   "execution_count": 30,
   "id": "honest-button",
   "metadata": {},
   "outputs": [
    {
     "name": "stdout",
     "output_type": "stream",
     "text": [
      "Discuss your learnings on Chapter 3  time-frame 3:00 - 18:00. Minimum of 200 characters\n",
      "\n",
      "\tIn the last chapter I learned that we need array because array are used when there is need to use many variables \n",
      "       of the same type. It can be defined as a sequence of objects which are of the same data types. In array your index\n",
      "       always starts with 0. With basic operations there are Typecodes and the codes are used to define the type of value the\n",
      "       array will hold. Some common typecodes used are b - Represents signed integer of size 1 byte/td>\n",
      "       B - Represents signed integer of size 1 byte, C - Represents character of size 1 byte, i - Represents signed integer\n",
      "       of size 2 bytes, I - Represents unsigned integer of size 2 bytes, f - Represents floating point of size 4 bytes, \n",
      "       d - Represents floating point of size 8 bytes\n"
     ]
    }
   ],
   "source": [
    "print (\"Discuss your learnings on Chapter 3  time-frame 3:00 - 18:00. Minimum of 200 characters\")\n",
    "\n",
    "print (\"\"\"\\n\\tIn the last chapter I learned that we need array because array are used when there is need to use many variables \n",
    "       of the same type. It can be defined as a sequence of objects which are of the same data types. In array your index\n",
    "       always starts with 0. With basic operations there are Typecodes and the codes are used to define the type of value the\n",
    "       array will hold. Some common typecodes used are b - Represents signed integer of size 1 byte/td>\n",
    "       B - Represents signed integer of size 1 byte, C - Represents character of size 1 byte, i - Represents signed integer\n",
    "       of size 2 bytes, I - Represents unsigned integer of size 2 bytes, f - Represents floating point of size 4 bytes, \n",
    "       d - Represents floating point of size 8 bytes\"\"\")"
   ]
  },
  {
   "cell_type": "code",
   "execution_count": 34,
   "id": "literary-network",
   "metadata": {},
   "outputs": [
    {
     "name": "stdout",
     "output_type": "stream",
     "text": [
      "2\n",
      "4\n",
      "6\n",
      "8\n",
      "10\n",
      "12\n"
     ]
    }
   ],
   "source": [
    "from array import *\n",
    "arrayName = array ('I', [2, 4, 6, 8, 10])\n",
    "arrayName.insert (5, 12)\n",
    "arrayName[1] = 4\n",
    "for x in arrayName:\n",
    "    print (x)"
   ]
  },
  {
   "cell_type": "code",
   "execution_count": null,
   "id": "alleged-cooking",
   "metadata": {},
   "outputs": [],
   "source": []
  }
 ],
 "metadata": {
  "kernelspec": {
   "display_name": "Python 3",
   "language": "python",
   "name": "python3"
  },
  "language_info": {
   "codemirror_mode": {
    "name": "ipython",
    "version": 3
   },
   "file_extension": ".py",
   "mimetype": "text/x-python",
   "name": "python",
   "nbconvert_exporter": "python",
   "pygments_lexer": "ipython3",
   "version": "3.9.2"
  }
 },
 "nbformat": 4,
 "nbformat_minor": 5
}
